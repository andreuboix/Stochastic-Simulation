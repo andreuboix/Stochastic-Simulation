{
 "cells": [
  {
   "cell_type": "markdown",
   "metadata": {},
   "source": [
    "# Exercise 5: Stochastic Simulation First Assignment\n",
    "### Author: Andreu Boix Torres"
   ]
  },
  {
   "cell_type": "markdown",
   "metadata": {},
   "source": [
    "Ships arrive at a harbor with interarrival times that are i.i.d. Weibull distributed (see exercise II.2.1 of [AG]) with\n",
    "a mean of 1.25 days. The harbor has a dock with two berths and two cranes for unloading the ships. Ships arriving\n",
    "when both berths are occupied join a FIFO queue until they can moor at a berth. The time for one crane to unload\n",
    "a ship has a Normal(1, 0.1) distribution which is truncated at its left-hand side at 0.5 and at its right-hand side at\n",
    "1.5. If there are no other ships in the harbor when a ship arrives at a berth, unloading of the ship will be done by\n",
    "both cranes and the unloading time is cut in half. When this happens, and a second ship moors at the other berth\n",
    "in the meantime, unloading will then need to wait until unloading of the first ship is completed. Whenever there\n",
    "are other ships in the harbor upon a ship’s arrival, however, the ship will be unloaded by a single crane. Assuming\n",
    "that no ships are in the harbor at time 0, the management wants to know the average waiting time of the ships\n",
    "until they are unloaded, as well as the waiting time of the longest waiting ship during these 90 days. What are\n",
    "your estimates? How reliable do you deem your estimates?"
   ]
  },
  {
   "cell_type": "code",
   "execution_count": null,
   "metadata": {},
   "outputs": [],
   "source": [
    "import numpy as np\n",
    "import random\n",
    "seed = 1234\n",
    "random.seed(seed)\n",
    "n = 90\n",
    "num_simulations = 1e6\n",
    "max_values = np.zeros(1, num_simulations)\n",
    "mean_values = np.zeros(1, num_simulations)"
   ]
  },
  {
   "cell_type": "code",
   "execution_count": null,
   "metadata": {},
   "outputs": [],
   "source": [
    "def weibull_rv(n, beta):\n",
    "    U = np.rand(n, 1)\n",
    "    X = (-np.log(U)^(1/beta))\n",
    "    return X\n",
    "\n",
    "def v_truncated(n):\n",
    "    v = np.randn(1,n)\n",
    "    v[v > 1.5] = 1.5\n",
    "    v[v < 0.5] = 0.5\n",
    "    return v"
   ]
  },
  {
   "cell_type": "markdown",
   "metadata": {},
   "source": [
    "We'll always (during our fixed number of 1e6 simulations) begin with 0 ships in the harbor."
   ]
  },
  {
   "cell_type": "code",
   "execution_count": null,
   "metadata": {},
   "outputs": [],
   "source": [
    "events = {}\n",
    "\n",
    "for sim in range(num_simulations):\n",
    "    # Initially no ships.\n",
    "    firstArrivalTime = weibull_rv(1,beta)\n",
    "    events.push_back8\n",
    "    addEventToEventList[{firstArrivalTime, ARRIVAL}]\n",
    "\n",
    "\n",
    "\n",
    "\n",
    "    W = np.zeros(1,90)\n",
    "    T = weibull_rv(n, beta)\n",
    "    v = v_truncated(n)\n",
    "    for i in range(2,n):\n",
    "        if i == 2:\n",
    "            vu = v[1,i]/2\n",
    "            W[1,i] = np.max(0, vu-T[i])\n",
    "        else:\n",
    "            if W[1,i-1] == 0:\n",
    "                vu = v[1,i]/2\n",
    "            else:\n",
    "                vu = v[1,i]\n",
    "            W[1,i] = np.max(0, W[1,i-1] + vu - T[i])\n",
    "    max_values[sim] = np.max(W)\n",
    "    mean_values[sim] = np.mean(W)\n",
    "    "
   ]
  }
 ],
 "metadata": {
  "language_info": {
   "name": "python"
  }
 },
 "nbformat": 4,
 "nbformat_minor": 2
}
